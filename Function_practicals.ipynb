{
 "cells": [
  {
   "cell_type": "code",
   "execution_count": 1,
   "id": "7af396b9-d41e-4be8-abda-e2207d583c41",
   "metadata": {},
   "outputs": [],
   "source": [
    "# Practical Functions Assignment"
   ]
  },
  {
   "cell_type": "code",
   "execution_count": 14,
   "id": "4e2b872c-fd3a-49e9-831a-d621bdc9f753",
   "metadata": {},
   "outputs": [
    {
     "name": "stdout",
     "output_type": "stream",
     "text": [
      "42\n",
      "30\n"
     ]
    }
   ],
   "source": [
    "# Q1.Write a python function that takes a list of numbers as input and returns the sum of all even numbers in the list?\n",
    "# Answer:\n",
    "def sum_of_even(numbers):\n",
    "    even_list = []\n",
    "    for number in numbers:\n",
    "        if number % 2 ==0:\n",
    "            even_list.append(number)\n",
    "    return (sum(even_list))\n",
    "total_sum_of_even = sum_of_even(numbers=[1, 2, 3, 4, 5, 6, 7, 8, 9, 10, 11, 12])\n",
    "print(total_sum_of_even)\n",
    "\n",
    "# Another approach With list Comprehension\n",
    "def sum_all_even(number_list):\n",
    "    even_list = [number for number in number_list if number % 2 == 0]\n",
    "    return (sum(even_list))\n",
    "print(sum_all_even(number_list=[1, 2, 3, 4, 5, 6, 7, 8, 9, 10]))\n"
   ]
  },
  {
   "cell_type": "code",
   "execution_count": 30,
   "id": "c9a593b4-1ebc-4052-90c9-c0d6518d4eed",
   "metadata": {},
   "outputs": [
    {
     "name": "stdout",
     "output_type": "stream",
     "text": [
      "hey how are you\n",
      "uoy era woh yeh\n",
      "dasa uoy era woh yeh\n"
     ]
    },
    {
     "data": {
      "text/plain": [
       "'ut iah asiak'"
      ]
     },
     "execution_count": 30,
     "metadata": {},
     "output_type": "execute_result"
    }
   ],
   "source": [
    "# Q2.Create a python function that accepts a string and returns the reverse of that string?\n",
    "# Answer:\n",
    "\n",
    "\n",
    "def reverse_string(sentence):\n",
    "    return sentence[::-1]\n",
    "\n",
    "\n",
    "\n",
    "string_in_reverse = reverse_string(\"uoy era woh yeh\")\n",
    "print(string_in_reverse)\n",
    "print(reverse_string(\"hey how are you\"))\n",
    "\n",
    "\n",
    "# using for loop\n",
    "def string_reverse(sentence):\n",
    "    reverse_string = \"\"\n",
    "    for char in sentence:\n",
    "        reverse_string = char + reverse_string  \n",
    "    print(reverse_string)\n",
    "\n",
    "\n",
    "string_reverse(\"hey how are you asad\")\n",
    "\n",
    "\n",
    "# created a reverse function using recursion, Chatgpt provided the steps to be taken(not the code itself)\n",
    "def reverse_func(sentence):\n",
    "    if sentence == \"\":\n",
    "        return \"\"\n",
    "    last_char = sentence[-1]\n",
    "    remaining_string = sentence[:-1] \n",
    "    return last_char + reverse_func(remaining_string)\n",
    "result = reverse_func(\"kaisa hai tu\")\n",
    "result"
   ]
  },
  {
   "cell_type": "code",
   "execution_count": 36,
   "id": "8f1ab243-37cc-4af2-8126-1bde4795e94f",
   "metadata": {},
   "outputs": [
    {
     "name": "stdout",
     "output_type": "stream",
     "text": [
      "[1, 100, 9, 16, 25]\n"
     ]
    },
    {
     "data": {
      "text/plain": [
       "[2025, 3136, 2401, 1936, 529]"
      ]
     },
     "execution_count": 36,
     "metadata": {},
     "output_type": "execute_result"
    }
   ],
   "source": [
    "# Q3. Implement a python function that takes a list of integers and returns a new list containing the squares?\n",
    "# Answer:\n",
    "# using for loop\n",
    "\n",
    "\n",
    "def square(list_of_numbers):\n",
    "    square_list = []\n",
    "    for number in list_of_numbers:\n",
    "        square_number = number**2\n",
    "        square_list.append(square_number)\n",
    "    return square_list\n",
    "\n",
    "\n",
    "print(square([1, 10, 3, 4 ,5]))\n",
    "square([45, 56, 49, 44, 23])"
   ]
  },
  {
   "cell_type": "code",
   "execution_count": 153,
   "id": "ea61c751-5b18-4a34-a008-307f9e584055",
   "metadata": {},
   "outputs": [
    {
     "name": "stdout",
     "output_type": "stream",
     "text": [
      "1 is not a prime number\n",
      "2 is a prime number\n",
      "3 is a prime number\n",
      "4 is not a prime number\n",
      "5 is a prime number\n",
      "6 is not a prime number\n",
      "7 is a prime number\n",
      "8 is not a prime number\n",
      "9 is not a prime number\n",
      "10 is not a prime number\n",
      "11 is a prime number\n",
      "12 is not a prime number\n",
      "13 is a prime number\n",
      "14 is not a prime number\n",
      "15 is not a prime number\n",
      "16 is not a prime number\n",
      "17 is a prime number\n",
      "18 is not a prime number\n",
      "19 is a prime number\n",
      "20 is not a prime number\n",
      "21 is not a prime number\n",
      "22 is not a prime number\n",
      "23 is a prime number\n",
      "24 is not a prime number\n",
      "25 is not a prime number\n",
      "26 is not a prime number\n",
      "27 is not a prime number\n",
      "28 is not a prime number\n",
      "29 is a prime number\n",
      "30 is not a prime number\n",
      "31 is a prime number\n",
      "32 is not a prime number\n",
      "33 is not a prime number\n",
      "34 is not a prime number\n",
      "35 is not a prime number\n",
      "36 is not a prime number\n",
      "37 is a prime number\n",
      "38 is not a prime number\n",
      "39 is not a prime number\n",
      "40 is not a prime number\n",
      "41 is a prime number\n",
      "42 is not a prime number\n",
      "43 is a prime number\n",
      "44 is not a prime number\n",
      "45 is not a prime number\n",
      "46 is not a prime number\n",
      "47 is a prime number\n",
      "48 is not a prime number\n",
      "49 is not a prime number\n",
      "50 is not a prime number\n",
      "51 is not a prime number\n",
      "52 is not a prime number\n",
      "53 is a prime number\n",
      "54 is not a prime number\n",
      "55 is not a prime number\n",
      "56 is not a prime number\n",
      "57 is not a prime number\n",
      "58 is not a prime number\n",
      "59 is a prime number\n",
      "60 is not a prime number\n",
      "61 is a prime number\n",
      "62 is not a prime number\n",
      "63 is not a prime number\n",
      "64 is not a prime number\n",
      "65 is not a prime number\n",
      "66 is not a prime number\n",
      "67 is a prime number\n",
      "68 is not a prime number\n",
      "69 is not a prime number\n",
      "70 is not a prime number\n",
      "71 is a prime number\n",
      "72 is not a prime number\n",
      "73 is a prime number\n",
      "74 is not a prime number\n",
      "75 is not a prime number\n",
      "76 is not a prime number\n",
      "77 is not a prime number\n",
      "78 is not a prime number\n",
      "79 is a prime number\n",
      "80 is not a prime number\n",
      "81 is not a prime number\n",
      "82 is not a prime number\n",
      "83 is a prime number\n",
      "84 is not a prime number\n",
      "85 is not a prime number\n",
      "86 is not a prime number\n",
      "87 is not a prime number\n",
      "88 is not a prime number\n",
      "89 is a prime number\n",
      "90 is not a prime number\n",
      "91 is not a prime number\n",
      "92 is not a prime number\n",
      "93 is not a prime number\n",
      "94 is not a prime number\n",
      "95 is not a prime number\n",
      "96 is not a prime number\n",
      "97 is a prime number\n",
      "98 is not a prime number\n",
      "99 is not a prime number\n",
      "100 is not a prime number\n",
      "101 is a prime number\n",
      "102 is not a prime number\n",
      "103 is a prime number\n",
      "104 is not a prime number\n",
      "105 is not a prime number\n",
      "106 is not a prime number\n",
      "107 is a prime number\n",
      "108 is not a prime number\n",
      "109 is a prime number\n",
      "110 is not a prime number\n",
      "111 is not a prime number\n",
      "112 is not a prime number\n",
      "113 is a prime number\n",
      "114 is not a prime number\n",
      "115 is not a prime number\n",
      "116 is not a prime number\n",
      "117 is not a prime number\n",
      "118 is not a prime number\n",
      "119 is not a prime number\n",
      "120 is not a prime number\n",
      "121 is not a prime number\n",
      "122 is not a prime number\n",
      "123 is not a prime number\n",
      "124 is not a prime number\n",
      "125 is not a prime number\n",
      "126 is not a prime number\n",
      "127 is a prime number\n",
      "128 is not a prime number\n",
      "129 is not a prime number\n",
      "130 is not a prime number\n",
      "131 is a prime number\n",
      "132 is not a prime number\n",
      "133 is not a prime number\n",
      "134 is not a prime number\n",
      "135 is not a prime number\n",
      "136 is not a prime number\n",
      "137 is a prime number\n",
      "138 is not a prime number\n",
      "139 is a prime number\n",
      "140 is not a prime number\n",
      "141 is not a prime number\n",
      "142 is not a prime number\n",
      "143 is not a prime number\n",
      "144 is not a prime number\n",
      "145 is not a prime number\n",
      "146 is not a prime number\n",
      "147 is not a prime number\n",
      "148 is not a prime number\n",
      "149 is a prime number\n",
      "150 is not a prime number\n",
      "151 is a prime number\n",
      "152 is not a prime number\n",
      "153 is not a prime number\n",
      "154 is not a prime number\n",
      "155 is not a prime number\n",
      "156 is not a prime number\n",
      "157 is a prime number\n",
      "158 is not a prime number\n",
      "159 is not a prime number\n",
      "160 is not a prime number\n",
      "161 is not a prime number\n",
      "162 is not a prime number\n",
      "163 is a prime number\n",
      "164 is not a prime number\n",
      "165 is not a prime number\n",
      "166 is not a prime number\n",
      "167 is a prime number\n",
      "168 is not a prime number\n",
      "169 is not a prime number\n",
      "170 is not a prime number\n",
      "171 is not a prime number\n",
      "172 is not a prime number\n",
      "173 is a prime number\n",
      "174 is not a prime number\n",
      "175 is not a prime number\n",
      "176 is not a prime number\n",
      "177 is not a prime number\n",
      "178 is not a prime number\n",
      "179 is a prime number\n",
      "180 is not a prime number\n",
      "181 is a prime number\n",
      "182 is not a prime number\n",
      "183 is not a prime number\n",
      "184 is not a prime number\n",
      "185 is not a prime number\n",
      "186 is not a prime number\n",
      "187 is not a prime number\n",
      "188 is not a prime number\n",
      "189 is not a prime number\n",
      "190 is not a prime number\n",
      "191 is a prime number\n",
      "192 is not a prime number\n",
      "193 is a prime number\n",
      "194 is not a prime number\n",
      "195 is not a prime number\n",
      "196 is not a prime number\n",
      "197 is a prime number\n",
      "198 is not a prime number\n",
      "199 is a prime number\n",
      "200 is not a prime number\n"
     ]
    }
   ],
   "source": [
    "# Q4.write a python function that checks if the given number in prime or not from 1 to 200?\n",
    "# Answer:\n",
    "# with the help is gpt(not with the code itself)\n",
    "\n",
    "\n",
    "def check_prime_or_not(number):\n",
    "    if number <= 1:\n",
    "        return f\"{number} is not a prime number\"\n",
    "    for i in range(2, number):\n",
    "        if number % i == 0:\n",
    "            return f\"{number} is not a prime number\"\n",
    "    return f\"{number} is a prime number\"\n",
    "\n",
    "\n",
    "for num in range(1, 200 + 1):\n",
    "    print(check_prime_or_not(num))\n",
    "    \n",
    "\n",
    "# by boolean output(True or False)by myself {Asad}\n",
    "def check_prime_number(numbers):\n",
    "    if numbers <= 1:\n",
    "        return False\n",
    "    for i in range(2, numbers):\n",
    "        if numbers % i == 0:\n",
    "            return False\n",
    "    return True\n",
    "\n",
    "# for number in range(1, 200 + 1):\n",
    "    # print(check_prime_number(number))"
   ]
  },
  {
   "cell_type": "code",
   "execution_count": 118,
   "id": "35c4d0af-bf3e-4f97-9349-8f8351443c58",
   "metadata": {},
   "outputs": [
    {
     "name": "stdout",
     "output_type": "stream",
     "text": [
      "0\n",
      "1\n",
      "1\n",
      "2\n",
      "3\n",
      "5\n",
      "8\n",
      "13\n",
      "21\n",
      "34\n"
     ]
    }
   ],
   "source": [
    "# Q5.Create and iterator class in pyton that generates the fibonaccci sequence up to specified number of terms\n",
    "\n",
    "\n",
    "def fibo(number):\n",
    "    a, b = 0, 1\n",
    "    for i in range(number):\n",
    "        yield a \n",
    "        a , b = b, + a+b\n",
    "\n",
    "\n",
    "for number in fibo(10):\n",
    "    print(number)\n",
    "\n",
    "\n"
   ]
  },
  {
   "cell_type": "code",
   "execution_count": 104,
   "id": "25f85a3f-a89b-4a96-86aa-70f83e566029",
   "metadata": {},
   "outputs": [
    {
     "name": "stdout",
     "output_type": "stream",
     "text": [
      "0\n",
      "1\n",
      "4\n",
      "9\n",
      "16\n",
      "25\n",
      "36\n",
      "49\n",
      "64\n",
      "81\n"
     ]
    }
   ],
   "source": [
    "# Q6.Write a generator function in python that yields the power of 2 up to a given exponent.\n",
    "# Code:\n",
    "\n",
    "\n",
    "def power_of(number):\n",
    "    for i in range(number):\n",
    "        yield i**2\n",
    "        # yield 2**i\n",
    "\n",
    "\n",
    "\n",
    "for i in (power_of(10)):\n",
    "    print(i)\n",
    "    "
   ]
  },
  {
   "cell_type": "code",
   "execution_count": 101,
   "id": "15487ac4-fc80-4341-bcd2-57d7a1f92cd6",
   "metadata": {},
   "outputs": [
    {
     "name": "stdout",
     "output_type": "stream",
     "text": [
      "Since you haven't provide the file for this operation and \n",
      "\n",
      "this haven't taught in class, \n",
      "\n",
      "I am not writing this file through python file handling,\n",
      "\n",
      "I am writing this through normal notebookdoc.txt\n"
     ]
    }
   ],
   "source": [
    "# Q7. Implement a generator function in python that reads a file line by line and yields each line as a string?\n",
    "# code\n",
    "\n",
    "\n",
    "def read_file(file_name):\n",
    "    with open(file_name, \"r\") as files:\n",
    "        for line in files:\n",
    "            yield line\n",
    "\n",
    "\n",
    "for line in read_file(\"Module_Assignment.txt.txt\"):\n",
    "    print(line)"
   ]
  },
  {
   "cell_type": "code",
   "execution_count": 114,
   "id": "b5b41b44-69ba-4205-a2d1-7a9cbbccd446",
   "metadata": {},
   "outputs": [
    {
     "data": {
      "text/plain": [
       "[(8, 1), (7, 2), (5, 3), (1, 4)]"
      ]
     },
     "execution_count": 114,
     "metadata": {},
     "output_type": "execute_result"
    }
   ],
   "source": [
    "# Q8.Use lambda function in python to sort a list of tuples based on the second element of each tuple\n",
    "# Code:\n",
    "\n",
    "\n",
    "def sorting_list_every_second_element(tuple_list):\n",
    "    sorted_tuple_list = sorted(tuple_list, key=lambda x: x[1])\n",
    "    return sorted_tuple_list\n",
    "\n",
    "\n",
    "sorting_list_every_second_element([(1, 4), (5, 3), (8, 1,), (7,2)])"
   ]
  },
  {
   "cell_type": "code",
   "execution_count": 151,
   "id": "84ffb653-5342-422c-8ccb-721c674b0f47",
   "metadata": {},
   "outputs": [
    {
     "name": "stdout",
     "output_type": "stream",
     "text": [
      "[86.0, 89.6, 96.8, 113.0, 131.0, 152.60000000000002]\n"
     ]
    },
    {
     "data": {
      "text/plain": [
       "[91.4, 111.2, 131.0, 150.8, 170.6, 192.20000000000002, 197.6]"
      ]
     },
     "execution_count": 151,
     "metadata": {},
     "output_type": "execute_result"
    }
   ],
   "source": [
    "#Q9. Write a python program uses map() to convert a list of tiemperatures from celcius to fahrenheit?\n",
    "\n",
    "\n",
    "def celcius_to_fahrenheit(temp):\n",
    "    # fahrenheit = (9//5) * temp + 32 To round the output using floor division\n",
    "    fahrenheit = (9/5) * temp + 32\n",
    "    return fahrenheit\n",
    "print(list(map(celcius_to_fahrenheit,[30, 32 , 36, 45, 55, 67])))\n",
    "\n",
    "\n",
    "# Using Lambda Function:\n",
    "temperature = [33, 44, 55, 66 ,77 ,89 ,92]\n",
    "\n",
    "list(map(lambda temp: (9/5) * temp + 32, temperature))\n"
   ]
  },
  {
   "cell_type": "code",
   "execution_count": 2,
   "id": "09e7f9c6-62ec-4d0c-956b-76f5033a23bf",
   "metadata": {},
   "outputs": [
    {
     "name": "stdout",
     "output_type": "stream",
     "text": [
      "['b', 'c', 'd', 'f', 'g', 'h', 'j', 'k', 'l', 'm', 'n', 'p', 'q', 'r', 's', 't', 'v', 'w', 'x', 'y', 'z']\n",
      "bcdfghjklmnpqrstvwxyz\n",
      "['b', 'c', 'd', 'f', 'g', 'h', 'j', 'k', 'l', 'm', 'n', 'p', 'q', 'r', 's', 't', 'v', 'w', 'x', 'y', 'z']\n",
      " b c d  f g h  j k l m n  p q r s t  v w x y z\n"
     ]
    }
   ],
   "source": [
    "# Q10. Create a python program that uses filter() to remove all the vowels from a given string\n",
    "# Code\n",
    "\n",
    "# Global Variable\n",
    "AlPHABETS = \"a, b, c, d, e, f, g, h, i, j, k, l, m, n, o, p, q, r, s, t, u, v, w, x, y, z\"\n",
    "\n",
    "\n",
    "# Using filter and custom functio(created by me(Asad))\n",
    "def fltr(char):\n",
    "    vowels = \"aeiou, \"\n",
    "    return char not in vowels\n",
    "\n",
    "\n",
    "print(list(filter(fltr, AlPHABETS)))\n",
    "# Output as list\n",
    "\n",
    "\n",
    "# using Lambda\n",
    "print(''.join(filter(lambda char: char not in \"eaiou, \", AlPHABETS )))# printing in string\n",
    "print(list(filter(lambda char: char not in \"eaiou, \", AlPHABETS ))) # printing in list\n",
    "\n",
    "\n",
    "        #using regular function with return\n",
    "def filtering(alphabets):\n",
    "    vowels = \"aeiou,\"\n",
    "    for char in alphabets:\n",
    "        if char in vowels or char == \",\":\n",
    "            alphabets = alphabets.replace(char, \"\")\n",
    "    return alphabets\n",
    "\n",
    "\n",
    "print(filtering(AlPHABETS))\n",
    "# Output as string\n"
   ]
  },
  {
   "cell_type": "code",
   "execution_count": 156,
   "id": "5bc660ae-7ac6-437e-8c63-a17d9d5584d8",
   "metadata": {},
   "outputs": [
    {
     "name": "stdout",
     "output_type": "stream",
     "text": [
      "[(34587, 163.8), (98762, 284.0), (77226, 108.85000000000001), (88112, 84.97)]\n",
      "[(34587, 163.8), (98762, 284.0), (77226, 108.85000000000001), (88112, 84.97)]\n"
     ]
    }
   ],
   "source": [
    "'''\n",
    "Q.11 Imagine an accounting routine used in a book shop. It works on a list with sublists.\n",
    "        Write a Python program, which returns a list with 2-tuples. Each tuple consists of the order number and the\n",
    "product of the price per item and the quantity. The product should be increased by 10,- € if the value of the\n",
    "order is smaller than 100,00 €.\n",
    "'''\n",
    "\n",
    "# Write a Python program using lambda and map.\n",
    "orders = [\n",
    "    [34587, \"Learning Python\", \"Mark Lutz\", 4, 40.95],\n",
    "    [98762, \"Programming Python\", \"Mark Lutz\", 5, 56.80],\n",
    "    [77226, \"Head first\", \"Paul Barry\", 3, 32.95],\n",
    "    [88112, \"Einfuhrung in Python3\", \"Bernd Klein\", 3, 24.99],\n",
    "]\n",
    "# Returnin two list with two elements each\n",
    "print(list(map(lambda order: (order[0],  # order numbers\n",
    "    order[-1] * order[3] + 10 if order[3] * order[-1] < 100 else order[3] * order[4]), orders)))\n",
    "\n",
    "\n",
    "# with the help of chat gpt (providing understanding, explanation of every single things/steps) not with direct codes\n",
    "result = list(map(lambda order: (\n",
    "    order[0],\n",
    "    order[3] * order[4] + 10 if order[3] * order[4] < 100 else order[3] * order[4]\n",
    "), orders))\n",
    "print(result)"
   ]
  },
  {
   "cell_type": "code",
   "execution_count": 157,
   "id": "ba14ff37-bf2e-4cad-9e35-58f8f2dc8dc7",
   "metadata": {},
   "outputs": [
    {
     "name": "stdout",
     "output_type": "stream",
     "text": [
      "\n"
     ]
    }
   ],
   "source": [
    "'''\n",
    " My Insights about this practical Assignment: \n",
    "    I have writen these codes with the help of gpt, only with understanding questions,\n",
    "    or sometimes i have told to provide the steps, or explain it on dry run, (to get the better understanding of structure),\n",
    "    rather than copy pasting the codes, that means i have told gpt to dont provide codes until and unless i tell you to.\n",
    "    i may let you know this , how did i solve. \n",
    "    Thank you,\n",
    "    regards: Asad\n",
    "'''\n",
    "print()"
   ]
  },
  {
   "cell_type": "code",
   "execution_count": null,
   "id": "6bf85b6b-f1d8-47be-b6f6-645cfc020799",
   "metadata": {},
   "outputs": [],
   "source": []
  },
  {
   "cell_type": "code",
   "execution_count": null,
   "id": "1d258914-b70c-456d-865a-f7272af6711c",
   "metadata": {},
   "outputs": [],
   "source": []
  }
 ],
 "metadata": {
  "kernelspec": {
   "display_name": "Python 3 (ipykernel)",
   "language": "python",
   "name": "python3"
  },
  "language_info": {
   "codemirror_mode": {
    "name": "ipython",
    "version": 3
   },
   "file_extension": ".py",
   "mimetype": "text/x-python",
   "name": "python",
   "nbconvert_exporter": "python",
   "pygments_lexer": "ipython3",
   "version": "3.12.4"
  }
 },
 "nbformat": 4,
 "nbformat_minor": 5
}
