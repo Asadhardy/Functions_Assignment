{
 "cells": [
  {
   "cell_type": "code",
   "execution_count": 1,
   "id": "7af396b9-d41e-4be8-abda-e2207d583c41",
   "metadata": {},
   "outputs": [],
   "source": [
    "# Practical Functions Assignment"
   ]
  },
  {
   "cell_type": "code",
   "execution_count": 14,
   "id": "4e2b872c-fd3a-49e9-831a-d621bdc9f753",
   "metadata": {},
   "outputs": [
    {
     "name": "stdout",
     "output_type": "stream",
     "text": [
      "42\n",
      "30\n"
     ]
    }
   ],
   "source": [
    "# Q1.Write a python function that takes a list of numbers as input and returns the sum of all even numbers in the list?\n",
    "# Answer:\n",
    "def sum_of_even(numbers):\n",
    "    even_list = []\n",
    "    for number in numbers:\n",
    "        if number % 2 ==0:\n",
    "            even_list.append(number)\n",
    "    return (sum(even_list))\n",
    "total_sum_of_even = sum_of_even(numbers=[1, 2, 3, 4, 5, 6, 7, 8, 9, 10, 11, 12])\n",
    "print(total_sum_of_even)\n",
    "\n",
    "# Another approach With list Comprehension\n",
    "def sum_all_even(number_list):\n",
    "    even_list = [number for number in number_list if number % 2 == 0]\n",
    "    return (sum(even_list))\n",
    "print(sum_all_even(number_list=[1, 2, 3, 4, 5, 6, 7, 8, 9, 10]))\n"
   ]
  },
  {
   "cell_type": "code",
   "execution_count": 30,
   "id": "c9a593b4-1ebc-4052-90c9-c0d6518d4eed",
   "metadata": {},
   "outputs": [
    {
     "name": "stdout",
     "output_type": "stream",
     "text": [
      "hey how are you\n",
      "uoy era woh yeh\n",
      "dasa uoy era woh yeh\n"
     ]
    },
    {
     "data": {
      "text/plain": [
       "'ut iah asiak'"
      ]
     },
     "execution_count": 30,
     "metadata": {},
     "output_type": "execute_result"
    }
   ],
   "source": [
    "# Q2.Create a python function that accepts a string and returns the reverse of that string?\n",
    "# Answer:\n",
    "def reverse_string(sentence):\n",
    "    return sentence[::-1]\n",
    "\n",
    "string_in_reverse = reverse_string(\"uoy era woh yeh\")\n",
    "print(string_in_reverse)\n",
    "print(reverse_string(\"hey how are you\"))\n",
    "\n",
    "# using for loop\n",
    "def string_reverse(sentence):\n",
    "    reverse_string = \"\"\n",
    "    for char in sentence:\n",
    "        reverse_string = char + reverse_string  \n",
    "    print(reverse_string)\n",
    "string_reverse(\"hey how are you asad\")\n",
    "\n",
    "# created a reverse function using recursion, Chatgpt provided the steps to be taken(not the code itself)\n",
    "def reverse_func(sentence):\n",
    "    if sentence == \"\":\n",
    "        return \"\"\n",
    "    last_char = sentence[-1]\n",
    "    remaining_string = sentence[:-1] \n",
    "    return last_char + reverse_func(remaining_string)\n",
    "result = reverse_func(\"kaisa hai tu\")\n",
    "result"
   ]
  },
  {
   "cell_type": "code",
   "execution_count": 36,
   "id": "8f1ab243-37cc-4af2-8126-1bde4795e94f",
   "metadata": {},
   "outputs": [
    {
     "name": "stdout",
     "output_type": "stream",
     "text": [
      "[1, 100, 9, 16, 25]\n"
     ]
    },
    {
     "data": {
      "text/plain": [
       "[2025, 3136, 2401, 1936, 529]"
      ]
     },
     "execution_count": 36,
     "metadata": {},
     "output_type": "execute_result"
    }
   ],
   "source": [
    "# Q3. Implement a python function that takes a list of integers and returns a new list containing the squares?\n",
    "# Answer:\n",
    "# using for loop\n",
    "def square(list_of_numbers):\n",
    "    square_list = []\n",
    "    for number in list_of_numbers:\n",
    "        square_number = number**2\n",
    "        square_list.append(square_number)\n",
    "    return square_list\n",
    "print(square([1, 10, 3, 4 ,5]))\n",
    "square([45, 56, 49, 44, 23])"
   ]
  },
  {
   "cell_type": "code",
   "execution_count": 43,
   "id": "ea61c751-5b18-4a34-a008-307f9e584055",
   "metadata": {},
   "outputs": [
    {
     "name": "stdout",
     "output_type": "stream",
     "text": [
      "False\n",
      "True\n",
      "True\n",
      "False\n",
      "True\n",
      "False\n",
      "True\n",
      "False\n",
      "False\n",
      "False\n",
      "True\n",
      "False\n",
      "True\n",
      "False\n",
      "False\n",
      "False\n",
      "True\n",
      "False\n",
      "True\n",
      "False\n",
      "False\n",
      "False\n",
      "True\n",
      "False\n",
      "False\n",
      "False\n",
      "False\n",
      "False\n",
      "True\n",
      "False\n",
      "True\n",
      "False\n",
      "False\n",
      "False\n",
      "False\n",
      "False\n",
      "True\n",
      "False\n",
      "False\n",
      "False\n",
      "True\n",
      "False\n",
      "True\n",
      "False\n",
      "False\n",
      "False\n",
      "True\n",
      "False\n",
      "False\n",
      "False\n",
      "False\n",
      "False\n",
      "True\n",
      "False\n",
      "False\n",
      "False\n",
      "False\n",
      "False\n",
      "True\n",
      "False\n",
      "True\n",
      "False\n",
      "False\n",
      "False\n",
      "False\n",
      "False\n",
      "True\n",
      "False\n",
      "False\n",
      "False\n",
      "True\n",
      "False\n",
      "True\n",
      "False\n",
      "False\n",
      "False\n",
      "False\n",
      "False\n",
      "True\n",
      "False\n",
      "False\n",
      "False\n",
      "True\n",
      "False\n",
      "False\n",
      "False\n",
      "False\n",
      "False\n",
      "True\n",
      "False\n",
      "False\n",
      "False\n",
      "False\n",
      "False\n",
      "False\n",
      "False\n",
      "True\n",
      "False\n",
      "False\n",
      "False\n",
      "True\n",
      "False\n",
      "True\n",
      "False\n",
      "False\n",
      "False\n",
      "True\n",
      "False\n",
      "True\n",
      "False\n",
      "False\n",
      "False\n",
      "True\n",
      "False\n",
      "False\n",
      "False\n",
      "False\n",
      "False\n",
      "False\n",
      "False\n",
      "False\n",
      "False\n",
      "False\n",
      "False\n",
      "False\n",
      "False\n",
      "True\n",
      "False\n",
      "False\n",
      "False\n",
      "True\n",
      "False\n",
      "False\n",
      "False\n",
      "False\n",
      "False\n",
      "True\n",
      "False\n",
      "True\n",
      "False\n",
      "False\n",
      "False\n",
      "False\n",
      "False\n",
      "False\n",
      "False\n",
      "False\n",
      "False\n",
      "True\n",
      "False\n",
      "True\n",
      "False\n",
      "False\n",
      "False\n",
      "False\n",
      "False\n",
      "True\n",
      "False\n",
      "False\n",
      "False\n",
      "False\n",
      "False\n",
      "True\n",
      "False\n",
      "False\n",
      "False\n",
      "True\n",
      "False\n",
      "False\n",
      "False\n",
      "False\n",
      "False\n",
      "True\n",
      "False\n",
      "False\n",
      "False\n",
      "False\n",
      "False\n",
      "True\n",
      "False\n",
      "True\n",
      "False\n",
      "False\n",
      "False\n",
      "False\n",
      "False\n",
      "False\n",
      "False\n",
      "False\n",
      "False\n",
      "True\n",
      "False\n",
      "True\n",
      "False\n",
      "False\n",
      "False\n",
      "True\n",
      "False\n",
      "True\n",
      "False\n"
     ]
    }
   ],
   "source": [
    "# Q4.write a python function that checks if the given number in prime or not from 1 to 200?\n",
    "# Answer:\n",
    "# with the help is gpt(not with the code itself)\n",
    "def check_prime_or_not(number):\n",
    "    if number <= 1:\n",
    "        return f\"{number} is not a prime number\"\n",
    "    for i in range(2, number):\n",
    "        if number % i == 0:\n",
    "            return f\"{number} is not a prime number\"\n",
    "    return f\"{number} is a prime number\"\n",
    "\n",
    "\n",
    "# for num in range(1, 200 + 1):\n",
    "#     print(check_prime_or_not(num),)\n",
    "    \n",
    "\n",
    "# by myself {Asad}\n",
    "def check_prime_number(numbers):\n",
    "    if numbers <= 1:\n",
    "        return False\n",
    "    for i in range(2, numbers):\n",
    "        if numbers % i == 0:\n",
    "            return False\n",
    "    return True\n",
    "\n",
    "for number in range(1, 200 + 1):\n",
    "    print(check_prime_number(number))"
   ]
  },
  {
   "cell_type": "code",
   "execution_count": 64,
   "id": "35c4d0af-bf3e-4f97-9349-8f8351443c58",
   "metadata": {},
   "outputs": [
    {
     "name": "stdout",
     "output_type": "stream",
     "text": [
      "0\n",
      "1\n",
      "1\n",
      "2\n",
      "3\n",
      "5\n",
      "8\n",
      "13\n",
      "21\n",
      "34\n"
     ]
    }
   ],
   "source": [
    "# Q5.Create and iterator class in pyton that generates the fibonaccci sequence up to specified number of terms\n",
    "def fibo(number):\n",
    "    a, b = 0, 1\n",
    "    for i in range(number):\n",
    "        yield a \n",
    "        a , b = b, + a+b\n",
    "\n",
    "for number in fibo(10):\n",
    "    print(number)\n",
    "\n",
    "# without yield\n",
    "def fibonacci(number):\n",
    "    a = 0\n",
    "    b = 1\n",
    "    for i in range(number):\n",
    "        return a\n",
    "        a,b = b, a+b\n",
    "# fibonacci(10)"
   ]
  },
  {
   "cell_type": "code",
   "execution_count": 86,
   "id": "25f85a3f-a89b-4a96-86aa-70f83e566029",
   "metadata": {},
   "outputs": [
    {
     "name": "stdout",
     "output_type": "stream",
     "text": [
      "1\n",
      "2\n",
      "4\n",
      "8\n",
      "16\n",
      "32\n",
      "64\n",
      "128\n",
      "256\n",
      "512\n"
     ]
    }
   ],
   "source": [
    "# Q6.Write a generator function in python that yields the power of 2 up to a given exponent.\n",
    "# Code:\n",
    "def power_of(number):\n",
    "    for i in range(number):\n",
    "        # yield i**2\n",
    "        yield 2**i\n",
    "\n",
    "for i in (power_of(10)):\n",
    "    print(i)\n",
    "    "
   ]
  },
  {
   "cell_type": "code",
   "execution_count": 87,
   "id": "15487ac4-fc80-4341-bcd2-57d7a1f92cd6",
   "metadata": {},
   "outputs": [
    {
     "ename": "SyntaxError",
     "evalue": "incomplete input (789545038.py, line 4)",
     "output_type": "error",
     "traceback": [
      "\u001b[1;36m  Cell \u001b[1;32mIn[87], line 4\u001b[1;36m\u001b[0m\n\u001b[1;33m    \u001b[0m\n\u001b[1;37m    ^\u001b[0m\n\u001b[1;31mSyntaxError\u001b[0m\u001b[1;31m:\u001b[0m incomplete input\n"
     ]
    }
   ],
   "source": [
    "# Q7. Implement a generator function in python that reads a file line by line and yields each line as a string?\n",
    "# code\n",
    "def read_file():\n",
    "    "
   ]
  },
  {
   "cell_type": "code",
   "execution_count": null,
   "id": "b5b41b44-69ba-4205-a2d1-7a9cbbccd446",
   "metadata": {},
   "outputs": [],
   "source": []
  },
  {
   "cell_type": "code",
   "execution_count": null,
   "id": "84ffb653-5342-422c-8ccb-721c674b0f47",
   "metadata": {},
   "outputs": [],
   "source": [
    "Q8."
   ]
  }
 ],
 "metadata": {
  "kernelspec": {
   "display_name": "Python 3 (ipykernel)",
   "language": "python",
   "name": "python3"
  },
  "language_info": {
   "codemirror_mode": {
    "name": "ipython",
    "version": 3
   },
   "file_extension": ".py",
   "mimetype": "text/x-python",
   "name": "python",
   "nbconvert_exporter": "python",
   "pygments_lexer": "ipython3",
   "version": "3.12.4"
  }
 },
 "nbformat": 4,
 "nbformat_minor": 5
}
